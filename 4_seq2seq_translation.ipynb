{
 "cells": [
  {
   "cell_type": "code",
   "execution_count": 1,
   "metadata": {},
   "outputs": [
    {
     "name": "stderr",
     "output_type": "stream",
     "text": [
      "2025-06-19 09:22:07.950547: I tensorflow/core/platform/cpu_feature_guard.cc:210] This TensorFlow binary is optimized to use available CPU instructions in performance-critical operations.\n",
      "To enable the following instructions: AVX2 FMA, in other operations, rebuild TensorFlow with the appropriate compiler flags.\n"
     ]
    }
   ],
   "source": [
    "import pandas as pd\n",
    "import numpy as np\n",
    "import tensorflow as tf\n",
    "from tensorflow import keras \n",
    "import transformers\n",
    "from transformers import pipeline, AutoTokenizer, AutoModel, TFAutoModel, AutoModelForSeq2SeqLM, Trainer, Seq2SeqTrainingArguments,TrainingArguments,DataCollatorForSeq2Seq\n",
    "from datasets import load_dataset, DatasetDict, Dataset, Features, Value, Translation, load_from_disk, concatenate_datasets\n",
    "from huggingface_hub import list_datasets, notebook_login,login\n",
    "import matplotlib.pyplot as plt\n",
    "import torch\n",
    "import torch.nn.functional as F\n",
    "from torch.nn.functional import cross_entropy\n",
    "from sklearn.linear_model import LogisticRegression\n",
    "from sklearn.metrics import accuracy_score,f1_score"
   ]
  },
  {
   "cell_type": "markdown",
   "metadata": {},
   "source": [
    "# Model Training #"
   ]
  },
  {
   "cell_type": "markdown",
   "metadata": {},
   "source": [
    "### Load pre-trained model and tokenizer ###"
   ]
  },
  {
   "cell_type": "code",
   "execution_count": null,
   "metadata": {},
   "outputs": [],
   "source": [
    "# Load the model and save to disk locally\n",
    "#tokenizer = AutoTokenizer.from_pretrained(\"google-t5/t5-small\")\n",
    "#model = AutoModelForSeq2SeqLM.from_pretrained(\"t5-small\")\n",
    "\n",
    "#tokenizer.save_pretrained(\"/Users/haochunniu/Desktop/Python/Transformer/pretrained_tokenizer\")\n",
    "#model.save_pretrained(\"/Users/haochunniu/Desktop/Python/Transformer/pretrained_model\")\n",
    "\n",
    "tokenizer = AutoTokenizer.from_pretrained(\"/Users/haochunniu/Desktop/Python/Transformer/pretrained_tokenize\",local_files_only=True)\n",
    "model = AutoModelForSeq2SeqLM.from_pretrained(\"/Users/haochunniu/Desktop/Python/Transformer/pretrained_model\",local_files_only=True)\n"
   ]
  },
  {
   "cell_type": "markdown",
   "metadata": {},
   "source": [
    "### Add new tokens to existed pre-trained tokenizer ###\n",
    "In reality, pre-trained tokenizer might already covered the language we are using. Yet, in some special cases, we might want to ***add some special words into out tokenizer's vocabulary list***. After adding these new words, ***the tokenizer will recognize these words and split the sequence correctly***."
   ]
  },
  {
   "cell_type": "code",
   "execution_count": null,
   "metadata": {},
   "outputs": [],
   "source": [
    "### Create a list of new tokens that need to be added\n",
    "new_words = np.unique(['Eric','Amy','SS'])\n",
    "\n",
    "### Call the vocabulary from the pretrained tokenizer and check if the word is already in there\n",
    "### If the word is already in the tokenizer's vocabulary, we don't need to add.\n",
    "existing_vocab = tokenizer.get_vocab()\n",
    "tokens_to_add = [tok for tok in new_words if f\"{tok}\" not in existing_vocab]\n",
    "\n",
    "### Add the tokens to tokenizer\n",
    "tokenizer.add_tokens(tokens_to_add)\n",
    "\n",
    "### Save the updated tokenizer\n",
    "tokenizer.save_pretrained(\"/Users/haochunniu/Desktop/Python/Transformer/updated_tokenize\")\n",
    "\n",
    "### Update the embedding size\n",
    "model.resize_token_embeddings(len(tokenizer))\n",
    "\n",
    "### Save the updated model\n",
    "model.save_pretrained(\"/Users/haochunniu/Desktop/Python/Transformer/updated_model\")\n",
    "\n",
    "### Load the updated tokenozer and model\n",
    "updated_tokenizer = AutoTokenizer.from_pretrained(\"/Users/haochunniu/Desktop/Python/Transformer/updated_tokenize\",local_files_only=True)\n",
    "updated_model = AutoModelForSeq2SeqLM.from_pretrained(\"/Users/haochunniu/Desktop/Python/Transformer/updated_model\",local_files_only=True)"
   ]
  },
  {
   "cell_type": "markdown",
   "metadata": {},
   "source": [
    "### Read the train, validation and test CSV files ###"
   ]
  },
  {
   "cell_type": "code",
   "execution_count": null,
   "metadata": {},
   "outputs": [],
   "source": [
    "train_df = pd.read_csv(\"/Users/haochunniu/Desktop/Python/Transformer/train.csv\")\n",
    "val_df = pd.read_csv(\"/Users/haochunniu/Desktop/Python/Transformer/val.csv\")\n",
    "test_df = pd.read_csv(\"/Users/haochunniu/Desktop/Python/Transformer/test.csv\")"
   ]
  },
  {
   "cell_type": "markdown",
   "metadata": {},
   "source": [
    "### Tokenize train, test, and validation data ###"
   ]
  },
  {
   "cell_type": "code",
   "execution_count": null,
   "metadata": {},
   "outputs": [],
   "source": [
    "### Create tokenization function\n",
    "def batch_tokenize(batch):\n",
    "    input_enc = updated_tokenizer(batch[\"original_lang_text\"],padding=\"max_length\",truncation=True,max_length=80) # The max_length depneds on how long the max length of the text is\n",
    "    target_enc = updated_tokenizer(batch[\"target_lang_text\"],padding=\"max_length\",truncation=True,max_length=80) # The max_length depneds on how long the max length of the text is\n",
    "    input_enc[\"labels\"] = target_enc[\"input_ids\"]\n",
    "    return input_enc\n",
    "\n",
    "### Tokenize each dataframe\n",
    "train_dataset = Dataset.from_pandas(train_df,preserve_index=False).map(batch_tokenize,remove_columns=train_df.columns.tolist())\n",
    "val_dataset = Dataset.from_pandas(val_df,preserve_index=False).map(batch_tokenize,remove_columns=val_df.columns.tolist())\n",
    "test_dataset = Dataset.from_pandas(test_df,preserve_index=False).map(batch_tokenize,remove_columns=test_df.columns.tolist())\n",
    "\n",
    "### Save the dataset locally\n",
    "train_dataset.save_to_disk(\"/Users/haochunniu/Desktop/Python/Transformer/dataset/train\")\n",
    "val_dataset.save_to_disk(\"/Users/haochunniu/Desktop/Python/Transformer/dataset/val\")\n",
    "test_dataset.save_to_disk(\"/Users/haochunniu/Desktop/Python/Transformer/dataset/test\")\n",
    "\n",
    "### Load the dataset from local\n",
    "train_dataset = load_from_disk(\"/Users/haochunniu/Desktop/Python/Transformer/dataset/train\")\n",
    "val_dataset = load_from_disk(\"/Users/haochunniu/Desktop/Python/Transformer/dataset/val\")\n",
    "test_dataset = load_from_disk(\"/Users/haochunniu/Desktop/Python/Transformer/dataset/test\")"
   ]
  },
  {
   "cell_type": "markdown",
   "metadata": {},
   "source": [
    "### Create the data collator based on tokenizer ###"
   ]
  },
  {
   "cell_type": "code",
   "execution_count": null,
   "metadata": {},
   "outputs": [],
   "source": [
    "data_collator = DataCollatorForSeq2Seq(updated_tokenizer)"
   ]
  },
  {
   "cell_type": "markdown",
   "metadata": {},
   "source": [
    "### Train the model ###"
   ]
  },
  {
   "cell_type": "code",
   "execution_count": null,
   "metadata": {},
   "outputs": [],
   "source": [
    "CHECKPOINTS_DIR = \"/Users/haochunniu/Desktop/Python/Transformer/final_model/save_checkpoints\"\n",
    "LOGGING_DIR = \"/Users/haochunniu/Desktop/Python/Transformer/logs\"\n",
    "\n",
    "# Setup GPU if available\n",
    "device = torch.device(\"cude\" if torch.cuda.is_available() else \"cpu\")\n",
    "\n",
    "# Training Arguments\n",
    "training_args = Seq2SeqTrainingArguments(\n",
    "    output_dir=CHECKPOINTS_DIR,\n",
    "    per_device_train_batch_size=8,\n",
    "    per_device_eval_batch_size=4,\n",
    "    learning_rate=3e-4,\n",
    "    num_train_epochs=10,\n",
    "    logging_dir=LOGGING_DIR,\n",
    "    logging_steps=1000,\n",
    "    logging_strategy=\"steps\",\n",
    "    save_steps=1000,\n",
    "    save_strategy=\"steps\",\n",
    "    eval_strategy=\"steps\",\n",
    "    load_best_model_at_end=True\n",
    ")\n",
    "\n",
    "trainer = Trainer(\n",
    "    model=updated_model,\n",
    "    tokenizer=updated_tokenizer,\n",
    "    args=training_args,\n",
    "    train_dataset=train_dataset,\n",
    "    eval_dataset=val_dataset,\n",
    "    data_collator=data_collator\n",
    ")\n",
    "\n",
    "# Start training\n",
    "trainer.train()\n",
    "#trainer.train(resume_from_checkpoint=True) #Sometimes we are not able to finish the entire training at once, by using this parameter we can force model to pickup the training from last saved checkpoint.\n",
    "\n",
    "# Save the final best model\n",
    "FINAL_MODEL_DIR = \"/Users/haochunniu/Desktop/Python/Transformer/final_model/best_model\" \n",
    "trainer.save_model(FINAL_MODEL_DIR )"
   ]
  },
  {
   "cell_type": "markdown",
   "metadata": {},
   "source": [
    "# Inferencing #"
   ]
  },
  {
   "cell_type": "markdown",
   "metadata": {},
   "source": [
    "### Load the best model from the training result ###"
   ]
  },
  {
   "cell_type": "code",
   "execution_count": null,
   "metadata": {},
   "outputs": [],
   "source": [
    "final_model = AutoModelForSeq2SeqLM.from_pretrained(\"/Users/haochunniu/Desktop/Python/Transformer/final_model/best_model\")\n",
    "final_model = final_model.to(device)"
   ]
  },
  {
   "cell_type": "markdown",
   "metadata": {},
   "source": [
    "### Create a function that would output predictions and token logit scores ###"
   ]
  },
  {
   "cell_type": "code",
   "execution_count": null,
   "metadata": {},
   "outputs": [],
   "source": [
    "def generate_translation_with_logit_scores(batch):\n",
    "\n",
    "    # Tokenize input\n",
    "    inputs = updated_tokenizer(batch[\"original_lang_text\"],return_tensors=\"pt\",padding=True,truncation=True,max_length=80).to(device)\n",
    "\n",
    "    # Predict\n",
    "    output = final_model.generate(\n",
    "        **inputs,\n",
    "        return_dict_in_generate=True,\n",
    "        output_scores=True,\n",
    "        max_length=80,\n",
    "        output_hidden_states=False\n",
    "    )\n",
    "\n",
    "    predicted_ids = output.sequences[0]\n",
    "    decoded_tokens = updated_tokenizer.convert_ids_to_tokens(predicted_ids,skip_special_tokens=False)\n",
    "\n",
    "    # Token level logit scores\n",
    "    token_scores = []\n",
    "    for i,logits in enumerate(output.scores):\n",
    "        token_id = predicted_ids[i+1] # Offset 1, because in t5 model the first token will always be the start token\n",
    "        prob = F.softmax(logits,dim=-1)[0,token_id]\n",
    "        token_scores.append(prob.item())\n",
    "    \n",
    "    per_token_logit_score = []\n",
    "    decoded_tokens2 = []\n",
    "    for token,score in zip(decoded_tokens[1:],token_scores): # Skip first token\n",
    "        if token not in updated_tokenizer.all_special_tokens: # Skip the special tokens\n",
    "            per_token_logit_score.append((token,score))\n",
    "            decoded_tokens2.append(token.replace(\"_\",\"\")) # t5 use _ as blank space\n",
    "    \n",
    "    # Final string and average score\n",
    "    decoded_text = updated_tokenizer.decode(predicted_ids,skip_special_tokens=True)\n",
    "    avg_logit_score = sum(score for _, score in per_token_logit_score)/len(per_token_logit_score) if per_token_logit_score else 0.0\n",
    "\n",
    "    return {\"translation\":decoded_text,\"avg_logit_score\":avg_logit_score,\"decoded_tokens\":np.asarray(decoded_tokens2)}\n",
    "    "
   ]
  },
  {
   "cell_type": "markdown",
   "metadata": {},
   "source": [
    "### Inference on test dataset ###"
   ]
  },
  {
   "cell_type": "code",
   "execution_count": null,
   "metadata": {},
   "outputs": [],
   "source": [
    "test_dataset_with_pred = test_dataset.map(generate_translation_with_logit_scores)\n",
    "test_dataset_with_pred.save_to_disk(\"/Users/haochunniu/Desktop/Python/Transformer/dataset/test_with_pred\")"
   ]
  }
 ],
 "metadata": {
  "kernelspec": {
   "display_name": "Python 3.10.6 ('transformer': venv)",
   "language": "python",
   "name": "python3"
  },
  "language_info": {
   "codemirror_mode": {
    "name": "ipython",
    "version": 3
   },
   "file_extension": ".py",
   "mimetype": "text/x-python",
   "name": "python",
   "nbconvert_exporter": "python",
   "pygments_lexer": "ipython3",
   "version": "3.10.6"
  },
  "orig_nbformat": 4,
  "vscode": {
   "interpreter": {
    "hash": "cdc66dc44c0f502b7f5763436885fc80a7f1e66ec3e3651f083a9873f1c92c33"
   }
  }
 },
 "nbformat": 4,
 "nbformat_minor": 2
}
